{
 "cells": [
  {
   "cell_type": "code",
   "execution_count": 1,
   "metadata": {},
   "outputs": [],
   "source": [
    "# Import statements for needed libraries\n",
    "import requests\n",
    "import json\n",
    "import sys\n",
    "import getopt"
   ]
  },
  {
   "cell_type": "code",
   "execution_count": 10,
   "metadata": {},
   "outputs": [
    {
     "ename": "SyntaxError",
     "evalue": "invalid syntax (<ipython-input-10-a0d19b2d54eb>, line 4)",
     "output_type": "error",
     "traceback": [
      "\u001b[0;36m  File \u001b[0;32m\"<ipython-input-10-a0d19b2d54eb>\"\u001b[0;36m, line \u001b[0;32m4\u001b[0m\n\u001b[0;31m    new_admin_email = # Enter your email address here\u001b[0m\n\u001b[0m                                                      ^\u001b[0m\n\u001b[0;31mSyntaxError\u001b[0m\u001b[0;31m:\u001b[0m invalid syntax\n"
     ]
    }
   ],
   "source": [
    "# Enter your email address, name, and what you would like to name your network\n",
    "# below and make sure you can check it as you'll have to login to the\n",
    "# Meraki Dashboard to verify access AND create your API Key\n",
    "new_admin_email = # Enter your email address here \n",
    "new_admin_name = # Enter your name here\n",
    "new_admin_network = # Enter the name you'd like to call your network here\n",
    "# There are 4 devices in front of you; a MX Security Appliance, a MR AP, a MS switch, and an MV12 Camera.\n",
    "# Enter the Serial numbers below to add them to the network\n",
    "camera_serial = # Enter the MV Camera Serial\n",
    "ap_serial = # Enter the MR AP Serial\n",
    "switch_serial = # Enter the MS Switch Serial\n",
    "sec_serial = # Enter the MX Security Appliance serial"
   ]
  },
  {
   "cell_type": "code",
   "execution_count": 11,
   "metadata": {},
   "outputs": [
    {
     "ename": "SyntaxError",
     "evalue": "invalid syntax (<ipython-input-11-89eb2ce23c6b>, line 2)",
     "output_type": "error",
     "traceback": [
      "\u001b[0;36m  File \u001b[0;32m\"<ipython-input-11-89eb2ce23c6b>\"\u001b[0;36m, line \u001b[0;32m2\u001b[0m\n\u001b[0;31m    meraki_key = #Enter Meraki API Key Here\u001b[0m\n\u001b[0m                                           ^\u001b[0m\n\u001b[0;31mSyntaxError\u001b[0m\u001b[0;31m:\u001b[0m invalid syntax\n"
     ]
    }
   ],
   "source": [
    "# Configuration values\n",
    "meraki_key = #Enter Meraki API Key Here"
   ]
  },
  {
   "cell_type": "code",
   "execution_count": 12,
   "metadata": {},
   "outputs": [
    {
     "ename": "SyntaxError",
     "evalue": "invalid syntax (<ipython-input-12-4c2dc5a4f2d1>, line 6)",
     "output_type": "error",
     "traceback": [
      "\u001b[0;36m  File \u001b[0;32m\"<ipython-input-12-4c2dc5a4f2d1>\"\u001b[0;36m, line \u001b[0;32m6\u001b[0m\n\u001b[0;31m    url = # Enter the URL here.  Make sure to surround in double quotes\u001b[0m\n\u001b[0m                                                                       ^\u001b[0m\n\u001b[0;31mSyntaxError\u001b[0m\u001b[0;31m:\u001b[0m invalid syntax\n"
     ]
    }
   ],
   "source": [
    "# Rename Network \n",
    "def create_network():\n",
    "    # Head to https://testing-developer.cisco.com/meraki/api/#/rest/api-endpoints/networks/create-organization-networks\n",
    "    # and use the documentation to create the URL to create your new network\n",
    "    try:\n",
    "        url = # Enter the URL here.  Make sure to surround in double quotes\n",
    "\n",
    "        headers = {'X-Cisco-Meraki-API-Key': meraki_key,\n",
    "                    'Content-Type':'application/json'}\n",
    "\n",
    "        payload =   {\n",
    "                        \"name\": new_admin_network,\n",
    "                        \"type\": \"wireless switch\"\n",
    "                    }\n",
    "\n",
    "        response = requests.request(\"POST\", url, data=json.dumps(payload), \\\n",
    "        headers=headers)\n",
    "   \n",
    "\n",
    "        # Get the new network ID so we can add the devices\n",
    "        network = json.loads(response.text)\n",
    "        network_id = network[\"id\"]\n",
    "        print(network_id)\n",
    "\n",
    "        \n",
    "        serials = [sec_serial,ap_serial,switch_serial,camera_serial]\n",
    "\n",
    "        for serial in serials:\n",
    "            url = \"https://api.meraki.com/api/v0/networks/\" + \\\n",
    "            +network_id+\"/devices/claim\"\n",
    "\n",
    "            payload = {\"serial\": device[\"serial\"]}\n",
    "            headers = {'X-Cisco-Meraki-API-Key': meraki_key,\n",
    "            'Content-Type': \"application/json\"}\n",
    "\n",
    "            response = requests.request(\"POST\", url, \\\n",
    "            data=json.dumps(payload), headers=headers)\n",
    "\n",
    "       \n",
    "    except Exception as e:\n",
    "        print(e)"
   ]
  },
  {
   "cell_type": "code",
   "execution_count": 13,
   "metadata": {},
   "outputs": [
    {
     "ename": "SyntaxError",
     "evalue": "invalid syntax (<ipython-input-13-9149a6a4e741>, line 6)",
     "output_type": "error",
     "traceback": [
      "\u001b[0;36m  File \u001b[0;32m\"<ipython-input-13-9149a6a4e741>\"\u001b[0;36m, line \u001b[0;32m6\u001b[0m\n\u001b[0;31m    url = # Enter API URL string created from the documentation here.  Make sure to surround in double quotes\u001b[0m\n\u001b[0m                                                                                                             ^\u001b[0m\n\u001b[0;31mSyntaxError\u001b[0m\u001b[0;31m:\u001b[0m invalid syntax\n"
     ]
    }
   ],
   "source": [
    "# Create a new network and assign you as admin\n",
    "def make_admin():\n",
    "\n",
    "    # Head to https://testing-developer.cisco.com/meraki/api/#/rest/api-endpoints/admins/create-organization-admins\n",
    "    # and use the documentation to create the URL to create a new admin\n",
    "    url = # Enter API URL string created from the documentation here.  Make sure to surround in double quotes\n",
    "\n",
    "    payload = {\n",
    "        \"name\": new_admin_name,\n",
    "        \"email\": new_admin_email,\n",
    "        \"orgAccess\": \"read-only\",\n",
    "        \"networks\": [\n",
    "            {\n",
    "                \"id\": new_admin_network,\n",
    "                \"access\": \"full\"\n",
    "            }\n",
    "        ],\n",
    "        \"tags\": []\n",
    "    }\n",
    "\n",
    "    headers = {'X-Cisco-Meraki-API-Key': meraki_key,\n",
    "    'Content-Type': \"application/json\"}\n",
    "\n",
    "    try:\n",
    "        response = requests.request(\"POST\", url, data=json.dumps(payload), \\\n",
    "        headers=headers)\n",
    "        print(response.text)\n",
    "    except Exception as e:\n",
    "        print(e)"
   ]
  },
  {
   "cell_type": "code",
   "execution_count": null,
   "metadata": {},
   "outputs": [],
   "source": [
    "# Create two vlans, one for the MR AP and one for the MV camera\n",
    "def create_vlans():\n",
    "\n",
    "    # Head to https://testing-developer.cisco.com/meraki/api/#/rest/api-endpoints/vlans/create-network-vlans\n",
    "    # and use the documentation to create the URL to create a new VLAN (make sure to put the network_id in)\n",
    "    url = # Enter API URL string created from the documentation here.  Make sure to surround in double quotes\n",
    "\n",
    "    payload = {\n",
    "      \"id\": \"2\",\n",
    "      \"name\": \"VLAN2\",\n",
    "      \"subnet\": \"192.168.2.0/24\",\n",
    "      \"applianceIp\": \"192.168.2.1\"\n",
    "    }\n",
    "\n",
    "    headers = {'X-Cisco-Meraki-API-Key': meraki_key,\n",
    "    'Content-Type': \"application/json\"}\n",
    "\n",
    "    try:\n",
    "        response = requests.request(\"POST\", url, data=json.dumps(payload), \\\n",
    "        headers=headers)\n",
    "        print(response.text)\n",
    "    except Exception as e:\n",
    "        print(e)\n",
    "        \n",
    "    payload = {\n",
    "      \"id\": \"3\",\n",
    "      \"name\": \"VLAN3\",\n",
    "      \"subnet\": \"192.168.3.0/24\",\n",
    "      \"applianceIp\": \"192.168.3.1\"\n",
    "    }\n",
    "\n",
    "    headers = {'X-Cisco-Meraki-API-Key': meraki_key,\n",
    "    'Content-Type': \"application/json\"}\n",
    "\n",
    "    try:\n",
    "        response = requests.request(\"POST\", url, data=json.dumps(payload), \\\n",
    "        headers=headers)\n",
    "        print(response.text)\n",
    "    except Exception as e:\n",
    "        print(e)\n",
    "        \n",
    "    # Now set the switchports for the MR AP (port 2) and the MV Camera (port 3) to match the corresponding vlans.\n",
    "    # Head to https://testing-developer.cisco.com/meraki/api/#/rest/api-endpoints/switch-ports/update-device-switch-port\n",
    "    # and create the url that will change switchport 2 to vlan 2.\n",
    "    url = # Enter API URL string created from the documentation here.  Make sure to surround in double quotes\n",
    "    \n",
    "    payload = {\n",
    "     \"vlan\": \"2\"\n",
    "    }\n",
    "\n",
    "    headers = {'X-Cisco-Meraki-API-Key': meraki_key,\n",
    "    'Content-Type': \"application/json\"}\n",
    "\n",
    "    try:\n",
    "        response = requests.request(\"POST\", url, data=json.dumps(payload), \\\n",
    "        headers=headers)\n",
    "        print(response.text)\n",
    "    except Exception as e:\n",
    "        print(e)\n",
    "        \n",
    "    # Head to https://testing-developer.cisco.com/meraki/api/#/rest/api-endpoints/switch-ports/update-device-switch-port\n",
    "    # and create the url that will change switchport 3 to vlan 3.\n",
    "    url = # Enter API URL string created from the documentation here.  Make sure to surround in double quotes\n",
    "    \n",
    "    payload = {\n",
    "     \"vlan\": \"3\"\n",
    "    }\n",
    "\n",
    "    headers = {'X-Cisco-Meraki-API-Key': meraki_key,\n",
    "    'Content-Type': \"application/json\"}\n",
    "\n",
    "    try:\n",
    "        response = requests.request(\"POST\", url, data=json.dumps(payload), \\\n",
    "        headers=headers)\n",
    "        print(response.text)\n",
    "    except Exception as e:\n",
    "        print(e)"
   ]
  },
  {
   "cell_type": "code",
   "execution_count": null,
   "metadata": {},
   "outputs": [],
   "source": [
    "# Create ssid for our MR to broadcast\n",
    "def create_ssid():\n",
    "\n",
    "    # Head to https://testing-developer.cisco.com/meraki/api/#/rest/api-endpoints/ssids/update-network-ssid\n",
    "    # and use the documentation to create the URL to create a new SSID. Make sure to set the network_id.\n",
    "    # The ssid number is 0\n",
    "    url = # Enter API URL string created from the documentation here.  Make sure to surround in double quotes\n",
    "\n",
    "    payload = {\n",
    "        \"number\":0,\n",
    "        \"name\": new_admin_network,\n",
    "        \"enabled\": true,\n",
    "        \"splashPage\": \"Click-through splash page\",\n",
    "        \"ssidAdminAccessible\": false,\n",
    "        \"authMode\": \"psk\",\n",
    "        \"encryptionMode\": \"wep\",\n",
    "        \"psk\": \"devnetcreate\",\n",
    "        \"ipAssignmentMode\": \"Bridge mode\",\n",
    "        \"useVlanTagging\": true,\n",
    "        \"defaultVlanId\": 2,\n",
    "        \"minBitrate\": 11,\n",
    "        \"bandSelection\": \"Dual band operation with Band Steering\",\n",
    "        \"perClientBandwidthLimitUp\": 0,\n",
    "        \"perClientBandwidthLimitDown\": 0,\n",
    "        \"walledGardenEnabled\": true,\n",
    "        \"walledGardenRanges\": \"*ietn805qd8.execute-api.us-east-1.amazonaws.com\"\n",
    "    }\n",
    "\n",
    "    headers = {'X-Cisco-Meraki-API-Key': meraki_key,\n",
    "    'Content-Type': \"application/json\"}\n",
    "\n",
    "    try:\n",
    "        response = requests.request(\"PUT\", url, data=json.dumps(payload), \\\n",
    "        headers=headers)\n",
    "        print(response.text)\n",
    "    except Exception as e:\n",
    "        print(e)"
   ]
  },
  {
   "cell_type": "code",
   "execution_count": null,
   "metadata": {},
   "outputs": [],
   "source": [
    "# Set Excap Splash Page\n",
    "def splash_settings():\n",
    "\n",
    "    # Head to https://testing-developer.cisco.com/meraki/api/#/rest/api-endpoints/splash-settings/update-network-ssids-plash-settings\n",
    "    # and use the documentation to create the URL to set the splash page. Make sure to set the network_id.\n",
    "    # The ssid number is 0\n",
    "    url = # Enter API URL string created from the documentation here.  Make sure to surround in double quotes\n",
    "\n",
    "    payload = {\n",
    "        \"splashUrl\": \"https://ietn805qd8.execute-api.us-east-1.amazonaws.com/dev/click?network=\"+network_id+\"&camera=\"+camera_serial,\n",
    "        \"useSplashUrl\": \"true\"\n",
    "    }\n",
    "\n",
    "    headers = {'X-Cisco-Meraki-API-Key': meraki_key,\n",
    "    'Content-Type': \"application/json\"}\n",
    "\n",
    "    try:\n",
    "        response = requests.request(\"PUT\", url, data=json.dumps(payload), \\\n",
    "        headers=headers)\n",
    "        print(response.text)\n",
    "        print(\"NOW CONNECT TO YOUR SSID ON YOUR MOBILE DEVICE\")\n",
    "    except Exception as e:\n",
    "        print(e)"
   ]
  },
  {
   "cell_type": "code",
   "execution_count": 14,
   "metadata": {},
   "outputs": [
    {
     "ename": "NameError",
     "evalue": "name 'create_network' is not defined",
     "output_type": "error",
     "traceback": [
      "\u001b[0;31m---------------------------------------------------------------------------\u001b[0m",
      "\u001b[0;31mNameError\u001b[0m                                 Traceback (most recent call last)",
      "\u001b[0;32m<ipython-input-14-a6b26ea6bc9e>\u001b[0m in \u001b[0;36m<module>\u001b[0;34m\u001b[0m\n\u001b[0;32m----> 1\u001b[0;31m \u001b[0mcreate_network\u001b[0m\u001b[0;34m(\u001b[0m\u001b[0;34m)\u001b[0m\u001b[0;34m\u001b[0m\u001b[0m\n\u001b[0m\u001b[1;32m      2\u001b[0m \u001b[0mmake_admin\u001b[0m\u001b[0;34m(\u001b[0m\u001b[0;34m)\u001b[0m\u001b[0;34m\u001b[0m\u001b[0m\n\u001b[1;32m      3\u001b[0m \u001b[0mcreate_vlans\u001b[0m\u001b[0;34m(\u001b[0m\u001b[0;34m)\u001b[0m\u001b[0;34m\u001b[0m\u001b[0m\n\u001b[1;32m      4\u001b[0m \u001b[0mcreate_ssid\u001b[0m\u001b[0;34m(\u001b[0m\u001b[0;34m)\u001b[0m\u001b[0;34m\u001b[0m\u001b[0m\n\u001b[1;32m      5\u001b[0m \u001b[0msplash_settings\u001b[0m\u001b[0;34m(\u001b[0m\u001b[0;34m)\u001b[0m\u001b[0;34m\u001b[0m\u001b[0m\n",
      "\u001b[0;31mNameError\u001b[0m: name 'create_network' is not defined"
     ]
    }
   ],
   "source": [
    "create_network()\n",
    "make_admin()\n",
    "create_vlans()\n",
    "create_ssid()\n",
    "splash_settings()\n",
    "take_snapshot()"
   ]
  },
  {
   "cell_type": "code",
   "execution_count": null,
   "metadata": {},
   "outputs": [],
   "source": []
  }
 ],
 "metadata": {
  "kernelspec": {
   "display_name": "Python 3",
   "language": "python",
   "name": "python3"
  },
  "language_info": {
   "codemirror_mode": {
    "name": "ipython",
    "version": 3
   },
   "file_extension": ".py",
   "mimetype": "text/x-python",
   "name": "python",
   "nbconvert_exporter": "python",
   "pygments_lexer": "ipython3",
   "version": "3.7.0"
  }
 },
 "nbformat": 4,
 "nbformat_minor": 2
}
